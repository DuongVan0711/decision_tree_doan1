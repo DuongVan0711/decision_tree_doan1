{
  "nbformat": 4,
  "nbformat_minor": 0,
  "metadata": {
    "colab": {
      "name": "Decision_tree_ID3.ipynb",
      "provenance": []
    },
    "kernelspec": {
      "name": "python3",
      "display_name": "Python 3"
    },
    "language_info": {
      "name": "python"
    }
  },
  "cells": [
    {
      "cell_type": "code",
      "metadata": {
        "id": "urWMTSUWvd-V"
      },
      "source": [
        "import pandas as pd\n",
        "from collections import Counter\n",
        "import math"
      ],
      "execution_count": 1,
      "outputs": []
    },
    {
      "cell_type": "code",
      "metadata": {
        "colab": {
          "base_uri": "https://localhost:8080/",
          "height": 483
        },
        "id": "I_Vo_1TlvhOJ",
        "outputId": "94449abd-34e8-4cd0-e24c-7018923df1af"
      },
      "source": [
        "df_buy = pd.read_csv('buy_computer.csv')\n",
        "df_buy"
      ],
      "execution_count": 2,
      "outputs": [
        {
          "output_type": "execute_result",
          "data": {
            "text/html": [
              "<div>\n",
              "<style scoped>\n",
              "    .dataframe tbody tr th:only-of-type {\n",
              "        vertical-align: middle;\n",
              "    }\n",
              "\n",
              "    .dataframe tbody tr th {\n",
              "        vertical-align: top;\n",
              "    }\n",
              "\n",
              "    .dataframe thead th {\n",
              "        text-align: right;\n",
              "    }\n",
              "</style>\n",
              "<table border=\"1\" class=\"dataframe\">\n",
              "  <thead>\n",
              "    <tr style=\"text-align: right;\">\n",
              "      <th></th>\n",
              "      <th>Age</th>\n",
              "      <th>Income</th>\n",
              "      <th>Student</th>\n",
              "      <th>Credit_rating</th>\n",
              "      <th>Buy_computer</th>\n",
              "    </tr>\n",
              "  </thead>\n",
              "  <tbody>\n",
              "    <tr>\n",
              "      <th>0</th>\n",
              "      <td>&lt;= 30</td>\n",
              "      <td>high</td>\n",
              "      <td>no</td>\n",
              "      <td>fair</td>\n",
              "      <td>no</td>\n",
              "    </tr>\n",
              "    <tr>\n",
              "      <th>1</th>\n",
              "      <td>&lt;= 30</td>\n",
              "      <td>high</td>\n",
              "      <td>no</td>\n",
              "      <td>excellent</td>\n",
              "      <td>no</td>\n",
              "    </tr>\n",
              "    <tr>\n",
              "      <th>2</th>\n",
              "      <td>31…40</td>\n",
              "      <td>high</td>\n",
              "      <td>no</td>\n",
              "      <td>fair</td>\n",
              "      <td>yes</td>\n",
              "    </tr>\n",
              "    <tr>\n",
              "      <th>3</th>\n",
              "      <td>&gt; 40</td>\n",
              "      <td>medium</td>\n",
              "      <td>no</td>\n",
              "      <td>fair</td>\n",
              "      <td>yes</td>\n",
              "    </tr>\n",
              "    <tr>\n",
              "      <th>4</th>\n",
              "      <td>&gt; 40</td>\n",
              "      <td>low</td>\n",
              "      <td>yes</td>\n",
              "      <td>fair</td>\n",
              "      <td>yes</td>\n",
              "    </tr>\n",
              "    <tr>\n",
              "      <th>5</th>\n",
              "      <td>&gt; 40</td>\n",
              "      <td>low</td>\n",
              "      <td>yes</td>\n",
              "      <td>excellent</td>\n",
              "      <td>no</td>\n",
              "    </tr>\n",
              "    <tr>\n",
              "      <th>6</th>\n",
              "      <td>31…40</td>\n",
              "      <td>low</td>\n",
              "      <td>yes</td>\n",
              "      <td>excellent</td>\n",
              "      <td>yes</td>\n",
              "    </tr>\n",
              "    <tr>\n",
              "      <th>7</th>\n",
              "      <td>&lt;= 30</td>\n",
              "      <td>medium</td>\n",
              "      <td>no</td>\n",
              "      <td>fair</td>\n",
              "      <td>no</td>\n",
              "    </tr>\n",
              "    <tr>\n",
              "      <th>8</th>\n",
              "      <td>&lt;= 30</td>\n",
              "      <td>low</td>\n",
              "      <td>yes</td>\n",
              "      <td>fair</td>\n",
              "      <td>yes</td>\n",
              "    </tr>\n",
              "    <tr>\n",
              "      <th>9</th>\n",
              "      <td>&gt; 40</td>\n",
              "      <td>medium</td>\n",
              "      <td>yes</td>\n",
              "      <td>fair</td>\n",
              "      <td>yes</td>\n",
              "    </tr>\n",
              "    <tr>\n",
              "      <th>10</th>\n",
              "      <td>&lt;= 30</td>\n",
              "      <td>medium</td>\n",
              "      <td>yes</td>\n",
              "      <td>excellent</td>\n",
              "      <td>yes</td>\n",
              "    </tr>\n",
              "    <tr>\n",
              "      <th>11</th>\n",
              "      <td>31…40</td>\n",
              "      <td>medium</td>\n",
              "      <td>no</td>\n",
              "      <td>excellent</td>\n",
              "      <td>yes</td>\n",
              "    </tr>\n",
              "    <tr>\n",
              "      <th>12</th>\n",
              "      <td>31…40</td>\n",
              "      <td>high</td>\n",
              "      <td>yes</td>\n",
              "      <td>fair</td>\n",
              "      <td>yes</td>\n",
              "    </tr>\n",
              "    <tr>\n",
              "      <th>13</th>\n",
              "      <td>&gt; 40</td>\n",
              "      <td>medium</td>\n",
              "      <td>no</td>\n",
              "      <td>excellent</td>\n",
              "      <td>no</td>\n",
              "    </tr>\n",
              "  </tbody>\n",
              "</table>\n",
              "</div>"
            ],
            "text/plain": [
              "      Age  Income Student Credit_rating Buy_computer\n",
              "0   <= 30    high      no          fair           no\n",
              "1   <= 30    high      no     excellent           no\n",
              "2   31…40    high      no          fair          yes\n",
              "3    > 40  medium      no          fair          yes\n",
              "4    > 40     low     yes          fair          yes\n",
              "5    > 40     low     yes     excellent           no\n",
              "6   31…40     low     yes     excellent          yes\n",
              "7   <= 30  medium      no          fair           no\n",
              "8   <= 30     low     yes          fair          yes\n",
              "9    > 40  medium     yes          fair          yes\n",
              "10  <= 30  medium     yes     excellent          yes\n",
              "11  31…40  medium      no     excellent          yes\n",
              "12  31…40    high     yes          fair          yes\n",
              "13   > 40  medium      no     excellent           no"
            ]
          },
          "metadata": {
            "tags": []
          },
          "execution_count": 2
        }
      ]
    },
    {
      "cell_type": "code",
      "metadata": {
        "colab": {
          "base_uri": "https://localhost:8080/"
        },
        "id": "v6qQ981tQXvj",
        "outputId": "469028b0-e2bc-4197-a0cf-e55d275565f5"
      },
      "source": [
        "target_attribute = 'Buy_computer'\n",
        "attribute_names = list(df_buy.columns)\n",
        "attribute_names.remove(target_attribute) #Remove the class attribute\n",
        "attribute_names"
      ],
      "execution_count": 3,
      "outputs": [
        {
          "output_type": "execute_result",
          "data": {
            "text/plain": [
              "['Age', 'Income', 'Student', 'Credit_rating']"
            ]
          },
          "metadata": {
            "tags": []
          },
          "execution_count": 3
        }
      ]
    },
    {
      "cell_type": "code",
      "metadata": {
        "id": "yPdTK4zNwS6J"
      },
      "source": [
        "def entropy_list(a_list):\n",
        "  count = Counter(x for x in a_list)\n",
        "  denominator = len(a_list)*1.0\n",
        "  probs = [x/denominator for x in count.values()]\n",
        "  return sum([-prob*math.log(prob,2) for prob in probs])"
      ],
      "execution_count": 4,
      "outputs": []
    },
    {
      "cell_type": "code",
      "metadata": {
        "id": "Ix1X6-qhwT5C"
      },
      "source": [
        "def info_gain(df,split,target):\n",
        "  df_split = df.groupby(split)\n",
        "  denominator = len(df.index)*1.0\n",
        "  df_agg = df_split.agg({target:[entropy_list, lambda x: len(x)/denominator]})\n",
        "  new_entropy = sum(df_agg.iloc[:,0]*df_agg.iloc[:,1])\n",
        "  old_entropy = entropy_list(df[target])\n",
        "  return old_entropy - new_entropy"
      ],
      "execution_count": 5,
      "outputs": []
    },
    {
      "cell_type": "code",
      "metadata": {
        "id": "yMmH6KjtwdA1"
      },
      "source": [
        "def id3(df,target,attribute_name,default_class = None):\n",
        "  count = Counter(x for x in df[target])\n",
        "  if len(count)==1:\n",
        "    return next(iter(count))\n",
        "  elif df.empty or (not attribute_name):\n",
        "    return default_class\n",
        "  else:\n",
        "    default_class = max(count.keys())\n",
        "    gains = [info_gain(df,attr,target) for attr in attribute_name]\n",
        "    index_max = gains.index(max(gains))\n",
        "    best_attr = attribute_name[index_max]\n",
        "    tree = { best_attr:{ } }\n",
        "    remaining_attr = [x for x in attribute_name if x!=best_attr]\n",
        "    for attr_val, data_subset in df.groupby(best_attr):\n",
        "      subtree = id3(data_subset,target,remaining_attr,default_class)\n",
        "      tree[best_attr][attr_val] = subtree\n",
        "    return tree"
      ],
      "execution_count": 6,
      "outputs": []
    },
    {
      "cell_type": "code",
      "metadata": {
        "colab": {
          "base_uri": "https://localhost:8080/"
        },
        "id": "PesFsiCswqrO",
        "outputId": "a8b83d61-25c0-4f4d-f014-febc41e39bfd"
      },
      "source": [
        "tree = id3(df_buy,target_attribute,attribute_names)\n",
        "print(\"\\nThe Resultant Decision Tree is :\\n\")\n",
        "print(tree)"
      ],
      "execution_count": 7,
      "outputs": [
        {
          "output_type": "stream",
          "text": [
            "\n",
            "The Resultant Decision Tree is :\n",
            "\n",
            "{'Age': {'31…40': 'yes', '<= 30': {'Student': {'no': 'no', 'yes': 'yes'}}, '> 40': {'Credit_rating': {'excellent': 'no', 'fair': 'yes'}}}}\n"
          ],
          "name": "stdout"
        }
      ]
    },
    {
      "cell_type": "code",
      "metadata": {
        "colab": {
          "base_uri": "https://localhost:8080/"
        },
        "id": "h6FKtFxmw-M2",
        "outputId": "e3041f06-dee7-474c-ee72-10d7a980e338"
      },
      "source": [
        "train_data = df_buy.iloc[1:-4] \n",
        "test_data = df_buy.iloc[-4:] \n",
        "train_tree = id3(train_data, target_attribute, attribute_names)\n",
        "print(\"\\nThe Resultant Decision train_tree is :\\n\")\n",
        "print(train_tree)"
      ],
      "execution_count": 8,
      "outputs": [
        {
          "output_type": "stream",
          "text": [
            "\n",
            "The Resultant Decision train_tree is :\n",
            "\n",
            "{'Age': {'31…40': 'yes', '<= 30': {'Income': {'high': 'no', 'low': 'yes', 'medium': 'no'}}, '> 40': {'Credit_rating': {'excellent': 'no', 'fair': 'yes'}}}}\n"
          ],
          "name": "stdout"
        }
      ]
    },
    {
      "cell_type": "code",
      "metadata": {
        "id": "A5A0GKL3xCWu"
      },
      "source": [
        "def classify(record,tree):\n",
        "  attr = next(iter(tree))\n",
        "  result = tree[attr][record[attr]]\n",
        "  if isinstance(result,dict):\n",
        "    return classify(record,result)\n",
        "  else:\n",
        "    return result"
      ],
      "execution_count": 9,
      "outputs": []
    },
    {
      "cell_type": "code",
      "metadata": {
        "colab": {
          "base_uri": "https://localhost:8080/"
        },
        "id": "hFn8tC9kxQZW",
        "outputId": "d83705d3-86ca-4941-fa86-9bb988157561"
      },
      "source": [
        "start = test_data.index.start\n",
        "stop = test_data.index.stop\n",
        "test=[classify(test_data.loc[i],train_tree) for i in range(start,stop)]\n",
        "print(test)"
      ],
      "execution_count": 10,
      "outputs": [
        {
          "output_type": "stream",
          "text": [
            "['no', 'yes', 'yes', 'no']\n"
          ],
          "name": "stdout"
        }
      ]
    },
    {
      "cell_type": "code",
      "metadata": {
        "colab": {
          "base_uri": "https://localhost:8080/"
        },
        "id": "Qf4-WsK2xVy7",
        "outputId": "68270064-e188-40bc-a132-7d381b2e4595"
      },
      "source": [
        "num = 0\n",
        "for i in range(0,len(test)):\n",
        "  if test[i] == test_data.loc[start+i][4]:\n",
        "    num += 1\n",
        "per = num*1.0/(len(test))\n",
        "print(per)"
      ],
      "execution_count": 11,
      "outputs": [
        {
          "output_type": "stream",
          "text": [
            "0.75\n"
          ],
          "name": "stdout"
        }
      ]
    }
  ]
}